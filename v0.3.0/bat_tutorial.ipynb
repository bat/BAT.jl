{
 "cells": [
  {
   "outputs": [],
   "cell_type": "markdown",
   "source": [
    "# BAT.jl Tutorial\n",
    "\n",
    "This tutorial demonstrates a simple application of BAT.jl: A Bayesian fit\n",
    "of a histogram with two Gaussian peaks.\n",
    "\n",
    "\n",
    "\n",
    "Note: This tutorial is somewhat verbose, as it aims to be easy to follow for\n",
    "users who are new to Julia. For the same reason, we deliberately avoid making\n",
    "use of Julia features like\n",
    "[closures](https://docs.julialang.org/en/v1/devdocs/functions/#Closures-1),\n",
    "[anonymous functions](https://docs.julialang.org/en/v1/manual/functions/index.html#man-anonymous-functions-1),\n",
    "[broadcasting syntax](https://docs.julialang.org/en/v1/manual/arrays/index.html#Broadcasting-1),\n",
    "[performance annotations](https://docs.julialang.org/en/v1/manual/performance-tips/#man-performance-annotations-1),\n",
    "etc."
   ],
   "metadata": {}
  },
  {
   "outputs": [],
   "cell_type": "markdown",
   "source": [
    "## Input Data Generation\n",
    "\n",
    "First, let's generate some synthetic data to fit. We'll need the Julia\n",
    "standard-library packages\n",
    "[\"Random\"](https://docs.julialang.org/en/v1/stdlib/Random/),\n",
    "[\"LinearAlgebra\"](https://docs.julialang.org/en/v1/stdlib/LinearAlgebra/)\n",
    "and [\"Statistics\"](https://docs.julialang.org/en/v1/stdlib/Statistics/),\n",
    "as well as the packages\n",
    "[\"Distributions\"](https://juliastats.github.io/Distributions.jl/stable/)\n",
    "and [\"StatsBase\"](http://juliastats.github.io/StatsBase.jl/stable/):"
   ],
   "metadata": {}
  },
  {
   "outputs": [],
   "cell_type": "code",
   "source": [
    "using Random, LinearAlgebra, Statistics, Distributions, StatsBase"
   ],
   "metadata": {},
   "execution_count": null
  },
  {
   "outputs": [],
   "cell_type": "markdown",
   "source": [
    "As the underlying truth of our input data/histogram, let us choose an\n",
    "non-normalized probability density composed of two Gaussian peaks with a peak\n",
    "area of 500 and 1000, a mean of -1.0 and 2.0 and a standard error of 0.5.\n",
    "So our model parameters will be:"
   ],
   "metadata": {}
  },
  {
   "outputs": [],
   "cell_type": "code",
   "source": [
    "par_names = [\"a_1\", \"a_2\", \"mu_1\", \"mu_2\", \"sigma\"]\n",
    "\n",
    "true_par_values = [500, 1000, -1.0, 2.0, 0.5]"
   ],
   "metadata": {},
   "execution_count": null
  },
  {
   "outputs": [],
   "cell_type": "markdown",
   "source": [
    "We'll define a function that returns two Gaussian distributions, based\n",
    "on a specific set of parameters"
   ],
   "metadata": {}
  },
  {
   "outputs": [],
   "cell_type": "code",
   "source": [
    "function model_distributions(parameters::AbstractVector{<:Real})\n",
    "    return (\n",
    "        Normal(parameters[3], parameters[5]),\n",
    "        Normal(parameters[4], parameters[5])\n",
    "    )\n",
    "end"
   ],
   "metadata": {},
   "execution_count": null
  },
  {
   "outputs": [],
   "cell_type": "markdown",
   "source": [
    "and then generate some synthetic data by drawing a number (according to the\n",
    "parameters a₁ and a₂) of samples from the two Gaussian distributions"
   ],
   "metadata": {}
  },
  {
   "outputs": [],
   "cell_type": "code",
   "source": [
    "data = vcat(\n",
    "    rand(model_distributions(true_par_values)[1], Int(true_par_values[1])),\n",
    "    rand(model_distributions(true_par_values)[2], Int(true_par_values[2]))\n",
    ")"
   ],
   "metadata": {},
   "execution_count": null
  },
  {
   "outputs": [],
   "cell_type": "markdown",
   "source": [
    "resulting in a vector of floating-point numbers:"
   ],
   "metadata": {}
  },
  {
   "outputs": [],
   "cell_type": "code",
   "source": [
    "typeof(data) == Vector{Float64}"
   ],
   "metadata": {},
   "execution_count": null
  },
  {
   "outputs": [],
   "cell_type": "markdown",
   "source": [
    "Then we create a histogram of that data, this histogram will serve as the\n",
    "input for the Bayesian fit:"
   ],
   "metadata": {}
  },
  {
   "outputs": [],
   "cell_type": "code",
   "source": [
    "hist = append!(Histogram(-2:0.1:4), data)"
   ],
   "metadata": {},
   "execution_count": null
  },
  {
   "outputs": [],
   "cell_type": "markdown",
   "source": [
    "The fit function that describes such a histogram (depending on the model\n",
    "parameters) will be"
   ],
   "metadata": {}
  },
  {
   "outputs": [],
   "cell_type": "code",
   "source": [
    "function fit_function(x::Real, parameters::AbstractVector{<:Real})\n",
    "    dists = model_distributions(parameters)\n",
    "    return parameters[1] * pdf(dists[1], x) +\n",
    "           parameters[2] * pdf(dists[2], x)\n",
    "end"
   ],
   "metadata": {},
   "execution_count": null
  },
  {
   "outputs": [],
   "cell_type": "markdown",
   "source": [
    "Using the Julia [\"Plots\"](http://docs.juliaplots.org/latest/) package"
   ],
   "metadata": {}
  },
  {
   "outputs": [],
   "cell_type": "code",
   "source": [
    "using Plots"
   ],
   "metadata": {},
   "execution_count": null
  },
  {
   "outputs": [],
   "cell_type": "markdown",
   "source": [
    "we can visually compare the histogram and the fit function, using the true\n",
    "values of the parameters:"
   ],
   "metadata": {}
  },
  {
   "outputs": [],
   "cell_type": "code",
   "source": [
    "plot(\n",
    "    normalize(hist, mode=:density),\n",
    "    st = :steps, label = \"Data\",\n",
    "    title = \"Data and True Statistical Model\"\n",
    ")\n",
    "plot!(\n",
    "    -4:0.01:4, x -> fit_function(x, true_par_values),\n",
    "    label = \"Truth\"\n",
    ")"
   ],
   "metadata": {},
   "execution_count": null
  },
  {
   "outputs": [],
   "cell_type": "markdown",
   "source": [
    "## Bayesian Fit\n",
    "\n",
    "Now let's do a Bayesian fit of the generated histogram, using BAT.\n",
    "\n",
    "In addition to the Julia packages loaded above, we need BAT itself, as\n",
    "well as [IntervalSets](https://github.com/JuliaMath/IntervalSets.jl):"
   ],
   "metadata": {}
  },
  {
   "outputs": [],
   "cell_type": "code",
   "source": [
    "using BAT, IntervalSets"
   ],
   "metadata": {},
   "execution_count": null
  },
  {
   "outputs": [],
   "cell_type": "markdown",
   "source": [
    "### Likelihood Definition\n",
    "\n",
    "First, we need to define a likelihood function for our problem. In BAT,\n",
    "all likelihood functions and priors are subtypes of `BAT.AbstractDensity`.\n",
    "We'll store the histogram that we want to fit in our likelihood density\n",
    "type, as accessing the histogram as a global variable would\n",
    "[reduce performance](https://docs.julialang.org/en/v1/manual/performance-tips/index.html#Avoid-global-variables-1):"
   ],
   "metadata": {}
  },
  {
   "outputs": [],
   "cell_type": "code",
   "source": [
    "struct HistogramLikelihood{H<:Histogram} <: AbstractDensity\n",
    "    histogram::H\n",
    "end"
   ],
   "metadata": {},
   "execution_count": null
  },
  {
   "outputs": [],
   "cell_type": "markdown",
   "source": [
    "As a minimum, BAT requires methods of `BAT.nparams` and\n",
    "`BAT.unsafe_density_logval` to be defined for each subtype of\n",
    "`AbstractDensity`.\n",
    "\n",
    "`BAT.nparams` simply needs to return the number of free parameters:"
   ],
   "metadata": {}
  },
  {
   "outputs": [],
   "cell_type": "code",
   "source": [
    "BAT.nparams(likelihood::HistogramLikelihood) = 5"
   ],
   "metadata": {},
   "execution_count": null
  },
  {
   "outputs": [],
   "cell_type": "markdown",
   "source": [
    "`BAT.unsafe_density_logval` has to implement the actual log-likelihood\n",
    "function:"
   ],
   "metadata": {}
  },
  {
   "outputs": [],
   "cell_type": "code",
   "source": [
    "function BAT.unsafe_density_logval(\n",
    "    likelihood::HistogramLikelihood,\n",
    "    parameters::AbstractVector{<:Real},\n",
    "    exec_context::ExecContext\n",
    ")\n",
    "    # Histogram counts for each bin as an array:\n",
    "    counts = likelihood.histogram.weights\n",
    "    # Histogram binning, has length (length(counts) + 1):\n",
    "    binning = likelihood.histogram.edges[1]\n",
    "    # sum log-likelihood over bins:\n",
    "    log_likelihood::Float64 = 0.0\n",
    "    for i in eachindex(counts)\n",
    "        bin_left, bin_right = binning[i], binning[i+1]\n",
    "        bin_width = bin_right - bin_left\n",
    "        bin_center = (bin_right + bin_left) / 2\n",
    "\n",
    "        observed_counts = counts[i]\n",
    "        # Simple mid-point rule integration of fit_function over bin:\n",
    "        expected_counts = bin_width * fit_function(bin_center, parameters)\n",
    "\n",
    "        log_likelihood += logpdf(Poisson(expected_counts), observed_counts)\n",
    "    end\n",
    "\n",
    "    return log_likelihood\n",
    "end"
   ],
   "metadata": {},
   "execution_count": null
  },
  {
   "outputs": [],
   "cell_type": "markdown",
   "source": [
    "Methods of `BAT.unsafe_density_logval` may be \"unsafe\" insofar as the\n",
    "implementation is not required to check the length of the `parameters` vector\n",
    "or the validity of the parameter values - BAT takes care of that (assuming\n",
    "that value provided by `BAT.nparams` is correct and that the prior that will\n",
    "only cover valid parameter values).\n",
    "\n",
    "Note: Currently, implementations of BAT.unsafe_density_logval *must* be\n",
    "type stable, to avoid triggering a Julia-internal error. The matter is under\n",
    "investigation. If the implementation of `BAT.unsafe_density_logval` is *not*\n",
    "type-stable, this will often result in an error like this:\n",
    "\n",
    "```\n",
    "Internal error: encountered unexpected error in runtime:\n",
    "MethodError(f=typeof(Core.Compiler.fieldindex)(), args=(Random123.Philox4x{T, R} ...\n",
    "```\n",
    "\n",
    "The `exec_context` argument can be ignored in simple use cases, it is only\n",
    "of interest for `unsafe_density_logval` methods that internally use Julia's\n",
    "multi-threading and/or distributed code execution capabilities.\n",
    "\n",
    "BAT itself also makes use of Julia's parallel programming facilities. BAT\n",
    "can calculate log-density values in parallel (e.g. for multiple MCMC chains)\n",
    "on multiple threads (implemented) and support for distributed execution\n",
    "(on multiple hosts) is planned. By default, however, BAT will assume that\n",
    "implementations of `BAT.unsafe_density_logval` are *not* thread safe. If\n",
    "your implementation *is* thread-safe (as is the case in the example above),\n",
    "you can advertise this fact to BAT:"
   ],
   "metadata": {}
  },
  {
   "outputs": [],
   "cell_type": "code",
   "source": [
    "BAT.exec_capabilities(::typeof(BAT.unsafe_density_logval), likelihood::HistogramLikelihood, parameters::AbstractVector{<:Real}) =\n",
    "    ExecCapabilities(0, true, 0, true)\n",
    "# BAT will then use multi-threaded log-likelihood evaluation where possible.\n",
    "# Note that Julia starts only a single thread by default, you will need to set\n",
    "# the environment variable\n",
    "# [`JULIA_NUM_THREADS`](https://docs.julialang.org/en/v1/manual/environment-variables/#JULIA_NUM_THREADS-1)\n",
    "# to configure the number of Julia threads.\n",
    "#\n",
    "#\n",
    "# Given our fit function and the histogram to fit, we'll define the\n",
    "# likelihood as\n",
    "likelihood = HistogramLikelihood(hist)"
   ],
   "metadata": {},
   "execution_count": null
  },
  {
   "outputs": [],
   "cell_type": "markdown",
   "source": [
    "### Prior Definition\n",
    "\n",
    "For simplicity, we choose a flat prior, i.e. a normalized constant\n",
    "density:"
   ],
   "metadata": {}
  },
  {
   "outputs": [],
   "cell_type": "code",
   "source": [
    "prior = ConstDensity(\n",
    "    HyperRectBounds(\n",
    "        [\n",
    "            0.0..10.0^4, 0.0..10.0^4,\n",
    "            -2.0..0.0, 1.0..3.0,\n",
    "            0.3..0.7\n",
    "        ],\n",
    "        reflective_bounds\n",
    "    ),\n",
    "    normalize\n",
    ")"
   ],
   "metadata": {},
   "execution_count": null
  },
  {
   "outputs": [],
   "cell_type": "markdown",
   "source": [
    "In general, BAT allows instances of any subtype of `AbstractDensity` to\n",
    "be uses as a prior, as long as a sampler is defined for it. This way, users\n",
    "may implement complex application-specific priors. You can also\n",
    "use `convert(AbstractDensity, distribution)` to convert any\n",
    "continuous multivariate `Distributions.Distribution` to a\n",
    "`BAT.AbstractDensity` that can be used as a prior (or likelihood)."
   ],
   "metadata": {}
  },
  {
   "outputs": [],
   "cell_type": "code",
   "source": [
    "### Bayesian Model Definition"
   ],
   "metadata": {},
   "execution_count": null
  },
  {
   "outputs": [],
   "cell_type": "markdown",
   "source": [
    "Given the likelihood and prior definition, a `BAT.BayesianModel` is simply\n",
    "defined via"
   ],
   "metadata": {}
  },
  {
   "outputs": [],
   "cell_type": "code",
   "source": [
    "model = BayesianModel(likelihood, prior)\n",
    "\n",
    "\n",
    "### Parameter Space Exploration via MCMC"
   ],
   "metadata": {},
   "execution_count": null
  },
  {
   "outputs": [],
   "cell_type": "markdown",
   "source": [
    "We can now use Markov chain Monte Carlo (MCMC) to explore the space of\n",
    "possible parameter values for the histogram fit.\n",
    "\n",
    "We'll use the Metropolis-Hastings algorithm and a multivariate\n",
    "t-distribution (ν = 1) as it's proposal function:"
   ],
   "metadata": {}
  },
  {
   "outputs": [],
   "cell_type": "code",
   "source": [
    "algorithm = MetropolisHastings(MvTDistProposalSpec(1.0))"
   ],
   "metadata": {},
   "execution_count": null
  },
  {
   "outputs": [],
   "cell_type": "markdown",
   "source": [
    "We also need to which random number generator and seed to use. BAT requires\n",
    "a counter-based RNG and partitions the RNG space over the MCMC chains. This\n",
    "way, a single RNG seed is sufficient for all chains and results can be\n",
    "reproducible even under parallel execution. Let's choose a Philox4x RNG\n",
    "with a random seed:"
   ],
   "metadata": {}
  },
  {
   "outputs": [],
   "cell_type": "code",
   "source": [
    "rngseed = BAT.Philox4xSeed()"
   ],
   "metadata": {},
   "execution_count": null
  },
  {
   "outputs": [],
   "cell_type": "markdown",
   "source": [
    "The algorithm, model and RNG seed specify the MCMC chains:"
   ],
   "metadata": {}
  },
  {
   "outputs": [],
   "cell_type": "code",
   "source": [
    "chainspec = MCMCSpec(algorithm, model, rngseed)"
   ],
   "metadata": {},
   "execution_count": null
  },
  {
   "outputs": [],
   "cell_type": "markdown",
   "source": [
    "Let's use 4 MCMC chains and require 10^5 unique samples from each chain\n",
    "(after tuning/burn-in):"
   ],
   "metadata": {}
  },
  {
   "outputs": [],
   "cell_type": "code",
   "source": [
    "nsamples = 10^5\n",
    "nchains = 4"
   ],
   "metadata": {},
   "execution_count": null
  },
  {
   "outputs": [],
   "cell_type": "markdown",
   "source": [
    "BAT provides fine-grained control over the MCMC tuning algorithm,\n",
    "convergence test and the chain initialization and tuning/burn-in strategy\n",
    "(the values used here are the default values):"
   ],
   "metadata": {}
  },
  {
   "outputs": [],
   "cell_type": "code",
   "source": [
    "tuner_config = ProposalCovTunerConfig(\n",
    "    λ = 0.5,\n",
    "    α = 0.15..0.35,\n",
    "    β = 1.5,\n",
    "    c = 1e-4..1e2\n",
    ")\n",
    "\n",
    "convergence_test = BGConvergence(1.1)\n",
    "\n",
    "init_strategy = MCMCInitStrategy(\n",
    "    ninit_tries_per_chain = 8..128,\n",
    "    max_nsamples_pretune = 25,\n",
    "    max_nsteps_pretune = 250,\n",
    "    max_time_pretune = Inf\n",
    ")\n",
    "\n",
    "burnin_strategy = MCMCBurninStrategy(\n",
    "    max_nsamples_per_cycle = 1000,\n",
    "    max_nsteps_per_cycle = 10000,\n",
    "    max_time_per_cycle = Inf,\n",
    "    max_ncycles = 30\n",
    ")"
   ],
   "metadata": {},
   "execution_count": null
  },
  {
   "outputs": [],
   "cell_type": "markdown",
   "source": [
    "Before running the Markov chains, let's set BAT's logging level to debug,\n",
    "to see what's going on in more detail (note: BAT's logging API will change\n",
    "in the future for better integration with the Julia v1 logging facilities):"
   ],
   "metadata": {}
  },
  {
   "outputs": [],
   "cell_type": "code",
   "source": [
    "BAT.Logging.set_log_level!(BAT, BAT.Logging.LOG_DEBUG)"
   ],
   "metadata": {},
   "execution_count": null
  },
  {
   "outputs": [],
   "cell_type": "markdown",
   "source": [
    "Now we can generate a set of MCMC samples via `rand`:"
   ],
   "metadata": {}
  },
  {
   "outputs": [],
   "cell_type": "code",
   "source": [
    "samples, sampleids, stats, chains = rand(\n",
    "    chainspec,\n",
    "    nsamples,\n",
    "    nchains,\n",
    "    tuner_config = tuner_config,\n",
    "    convergence_test = convergence_test,\n",
    "    init_strategy = init_strategy,\n",
    "    burnin_strategy = burnin_strategy,\n",
    "    max_nsteps = 10000,\n",
    "    max_time = Inf,\n",
    "    granularity = 1,\n",
    "    ll = BAT.Logging.LOG_INFO\n",
    ")"
   ],
   "metadata": {},
   "execution_count": null
  },
  {
   "outputs": [],
   "cell_type": "markdown",
   "source": [
    "Note: Reasonable default values are defined for all of the above. In many\n",
    "use cases, a simple\n",
    "\n",
    "```julia\n",
    "samples, sampleids, stats, chains =\n",
    "   rand(MCMCSpec(MetropolisHastings(), model), nsamples, nchains)`\n",
    "```\n",
    "\n",
    "may be sufficient."
   ],
   "metadata": {}
  },
  {
   "outputs": [],
   "cell_type": "markdown",
   "source": [
    "Let's print some results:"
   ],
   "metadata": {}
  },
  {
   "outputs": [],
   "cell_type": "code",
   "source": [
    "println(\"Truth: $true_par_values\")\n",
    "println(\"Mode: $(stats.mode)\")\n",
    "println(\"Mean: $(stats.param_stats.mean)\")\n",
    "println(\"Covariance: $(stats.param_stats.cov)\")"
   ],
   "metadata": {},
   "execution_count": null
  },
  {
   "outputs": [],
   "cell_type": "markdown",
   "source": [
    "`stats` contains some statistics collected during MCMC sample generation,\n",
    "e.g. the mean and covariance of the parameters and the mode. Equal values\n",
    "for these statistics may of course be calculated afterwards, from the\n",
    "samples:"
   ],
   "metadata": {}
  },
  {
   "outputs": [],
   "cell_type": "code",
   "source": [
    "@assert vec(mean(samples.params, FrequencyWeights(samples.weight))) ≈ stats.param_stats.mean\n",
    "@assert vec(var(samples.params, FrequencyWeights(samples.weight))) ≈ diag(stats.param_stats.cov)\n",
    "@assert cov(samples.params, FrequencyWeights(samples.weight)) ≈ stats.param_stats.cov"
   ],
   "metadata": {},
   "execution_count": null
  },
  {
   "outputs": [],
   "cell_type": "markdown",
   "source": [
    "We can also, e.g., get the Pearson auto-correlation of the parameters:"
   ],
   "metadata": {}
  },
  {
   "outputs": [],
   "cell_type": "code",
   "source": [
    "vec(cor(samples.params, FrequencyWeights(samples.weight)))"
   ],
   "metadata": {},
   "execution_count": null
  },
  {
   "outputs": [],
   "cell_type": "markdown",
   "source": [
    "### Visualization of Results"
   ],
   "metadata": {}
  },
  {
   "outputs": [],
   "cell_type": "markdown",
   "source": [
    "BAT.jl comes with an extensive set of plotting recipes for\n",
    "[\"Plots.jl\"] (http://docs.juliaplots.org/latest/).\n",
    "We can plot the marginalized distribution for a single parameter (e.g.\n",
    "parameter 3, i.e. μ₁):"
   ],
   "metadata": {}
  },
  {
   "outputs": [],
   "cell_type": "code",
   "source": [
    "plot(\n",
    "    samples, 3,\n",
    "    mean = true, std_dev = true, globalmode = true, localmode = true,\n",
    "    nbins = 50, xlabel = par_names[3], ylabel = \"P($(par_names[3]))\",\n",
    "    title = \"Marginalized Distribution for mu_1\"\n",
    ")"
   ],
   "metadata": {},
   "execution_count": null
  },
  {
   "outputs": [],
   "cell_type": "markdown",
   "source": [
    "or plot the marginalized distribution for a pair of parameters (e.g.\n",
    "parameters 3 and 5, i.e. μ₁ and σ), including information from the parameter\n",
    "stats:"
   ],
   "metadata": {}
  },
  {
   "outputs": [],
   "cell_type": "code",
   "source": [
    "plot(\n",
    "    samples, (3, 5),\n",
    "    mean = true, std_dev = true, globalmode = true, localmode = true,\n",
    "    nbins = 50, xlabel = par_names[3], ylabel = par_names[5],\n",
    "    title = \"Marginalized Distribution for mu_1 and sigma\"\n",
    ")\n",
    "plot!(stats, (3, 5))"
   ],
   "metadata": {},
   "execution_count": null
  },
  {
   "outputs": [],
   "cell_type": "markdown",
   "source": [
    "We can also create an overview plot of the marginalized distribution for all\n",
    "pairs of parameters:"
   ],
   "metadata": {}
  },
  {
   "outputs": [],
   "cell_type": "code",
   "source": [
    "plot(\n",
    "    samples,\n",
    "    mean = false, std_dev = false, globalmode = true, localmode = false,\n",
    "    nbins = 50\n",
    ")"
   ],
   "metadata": {},
   "execution_count": null
  },
  {
   "outputs": [],
   "cell_type": "markdown",
   "source": [
    "### Integration with Tables.jl"
   ],
   "metadata": {}
  },
  {
   "outputs": [],
   "cell_type": "markdown",
   "source": [
    "BAT.jl supports the [Tables.jl](https://github.com/JuliaData/Tables.jl)\n",
    "interface. Using a tables implementation like\n",
    "TypedTables.jl](http://blog.roames.com/TypedTables.jl/stable/),\n",
    "the whole MCMC output (parameter vectors, weights, sample/chain numbers,\n",
    "etc.) can easily can be combined into a single table:"
   ],
   "metadata": {}
  },
  {
   "outputs": [],
   "cell_type": "code",
   "source": [
    "using TypedTables\n",
    "\n",
    "tbl = Table(samples, sampleids)"
   ],
   "metadata": {},
   "execution_count": null
  },
  {
   "outputs": [],
   "cell_type": "markdown",
   "source": [
    "We can now, e.g., find the sample with the maximum posterior value (i.e. the\n",
    "mode):"
   ],
   "metadata": {}
  },
  {
   "outputs": [],
   "cell_type": "code",
   "source": [
    "mode_log_posterior, mode_idx = findmax(tbl.log_posterior)"
   ],
   "metadata": {},
   "execution_count": null
  },
  {
   "outputs": [],
   "cell_type": "markdown",
   "source": [
    "And get row `mode_idx` of the table, with all information about the sample\n",
    "at the mode:"
   ],
   "metadata": {}
  },
  {
   "outputs": [],
   "cell_type": "markdown",
   "source": [
    "## Comparison of Truth and Best Fit"
   ],
   "metadata": {}
  },
  {
   "outputs": [],
   "cell_type": "markdown",
   "source": [
    "As a final step, we retrieve the parameter values at the mode, representing\n",
    "the best-fit parameters"
   ],
   "metadata": {}
  },
  {
   "outputs": [],
   "cell_type": "code",
   "source": [
    "fit_par_values = tbl[mode_idx].params"
   ],
   "metadata": {},
   "execution_count": null
  },
  {
   "outputs": [],
   "cell_type": "markdown",
   "source": [
    "And plot the truth, data, and best fit:"
   ],
   "metadata": {}
  },
  {
   "outputs": [],
   "cell_type": "code",
   "source": [
    "plot(\n",
    "    normalize(hist, mode=:density),\n",
    "    st = :steps, label = \"Data\",\n",
    "    title = \"Data, True Model and Best Fit\"\n",
    ")\n",
    "plot!(-4:0.01:4, x -> fit_function(x, true_par_values), label = \"Truth\")\n",
    "plot!(-4:0.01:4, x -> fit_function(x, fit_par_values), label = \"Best fit\")"
   ],
   "metadata": {},
   "execution_count": null
  },
  {
   "outputs": [],
   "cell_type": "markdown",
   "source": [
    "*This notebook was generated using [Literate.jl](https://github.com/fredrikekre/Literate.jl).*"
   ],
   "metadata": {}
  }
 ],
 "nbformat_minor": 3,
 "metadata": {
  "language_info": {
   "file_extension": ".jl",
   "mimetype": "application/julia",
   "name": "julia",
   "version": "1.2.0-rc1.0"
  },
  "kernelspec": {
   "name": "julia-1.2",
   "display_name": "Julia 1.2.0-rc1.0",
   "language": "julia"
  }
 },
 "nbformat": 4
}
